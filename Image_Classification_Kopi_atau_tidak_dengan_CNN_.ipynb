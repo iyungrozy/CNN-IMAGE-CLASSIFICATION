{
  "nbformat": 4,
  "nbformat_minor": 0,
  "metadata": {
    "colab": {
      "provenance": [],
      "mount_file_id": "1LDEGCUeufilD4PZOd2eq2UwoYppKDj_O",
      "authorship_tag": "ABX9TyNY5zGdlPXwcOXFwfnv/GGl",
      "include_colab_link": true
    },
    "kernelspec": {
      "name": "python3",
      "display_name": "Python 3"
    },
    "language_info": {
      "name": "python"
    }
  },
  "cells": [
    {
      "cell_type": "markdown",
      "metadata": {
        "id": "view-in-github",
        "colab_type": "text"
      },
      "source": [
        "<a href=\"https://colab.research.google.com/github/iyungrozy/CNN-IMAGE-CLASSIFICATION/blob/main/Image_Classification_Kopi_atau_tidak_dengan_CNN_.ipynb\" target=\"_parent\"><img src=\"https://colab.research.google.com/assets/colab-badge.svg\" alt=\"Open In Colab\"/></a>"
      ]
    },
    {
      "cell_type": "code",
      "execution_count": 25,
      "metadata": {
        "id": "tgL6neq5Rzw-"
      },
      "outputs": [],
      "source": [
        "import matplotlib.pyplot as plt\n",
        "import numpy as np\n",
        "import os\n",
        "import PIL\n",
        "import tensorflow as tf\n",
        "from tensorflow import keras\n",
        "from keras import layers\n",
        "from keras.models import Sequential\n",
        "from IPython.display import Image"
      ]
    },
    {
      "cell_type": "code",
      "source": [
        "# Import dataset\n",
        "import pathlib\n",
        "path = \"drive/My Drive/UAS AI/training\"\n",
        "data_dir = pathlib.Path(path)"
      ],
      "metadata": {
        "id": "B5BEM2TzUDt7"
      },
      "execution_count": 26,
      "outputs": []
    },
    {
      "cell_type": "code",
      "source": [
        "batch_size = 16\n",
        "img_height = 180\n",
        "img_width = 180\n",
        "\n",
        "# Split data training dan data validasi\n",
        "train_data = tf.keras.preprocessing.image_dataset_from_directory(\n",
        "    data_dir,\n",
        "    validation_split = 0.2,\n",
        "    subset = \"training\",\n",
        "    seed = 123,\n",
        "    image_size = (img_height, img_width),\n",
        "    batch_size = batch_size)\n",
        "\n",
        "validation_data = tf.keras.preprocessing.image_dataset_from_directory(\n",
        "    data_dir,\n",
        "    validation_split = 0.2,\n",
        "    subset = \"validation\",\n",
        "    seed = 123,\n",
        "    image_size = (img_height, img_width),\n",
        "    batch_size=batch_size)"
      ],
      "metadata": {
        "id": "vPWo5w2NUHqG",
        "colab": {
          "base_uri": "https://localhost:8080/"
        },
        "outputId": "191a018a-75d5-4662-e4a7-f4c86c6396f4"
      },
      "execution_count": 27,
      "outputs": [
        {
          "output_type": "stream",
          "name": "stdout",
          "text": [
            "Found 25 files belonging to 2 classes.\n",
            "Using 20 files for training.\n",
            "Found 25 files belonging to 2 classes.\n",
            "Using 5 files for validation.\n"
          ]
        }
      ]
    },
    {
      "cell_type": "code",
      "source": [
        "# Konversi ke dalam bentuk CNN\n",
        "normalization_layer = tf.keras.layers.Rescaling(1./255)\n",
        "normalized_data = train_data.map(lambda x, y: (normalization_layer(x), y))\n",
        "image_batch, labels_batch = next(iter(normalized_data))\n",
        "first_image = image_batch[0]\n",
        "print(np.min(first_image), np.max(first_image))"
      ],
      "metadata": {
        "id": "D0dgTAhgUJdX",
        "colab": {
          "base_uri": "https://localhost:8080/"
        },
        "outputId": "9ae17939-665e-4819-c9a5-8cd62f1ddc00"
      },
      "execution_count": 28,
      "outputs": [
        {
          "output_type": "stream",
          "name": "stdout",
          "text": [
            "0.0 1.0\n"
          ]
        }
      ]
    },
    {
      "cell_type": "code",
      "source": [
        "# Membuat model\n",
        "num_classes = 2\n",
        "model = Sequential([\n",
        "    tf.keras.layers.Rescaling(1./255, input_shape=(img_height, img_width, 3)),\n",
        "    layers.Conv2D(16, 3, padding='same', activation='relu' ),\n",
        "    layers.MaxPooling2D(),\n",
        "    layers.Conv2D(32, 3, padding='same', activation='relu'),\n",
        "    layers.MaxPooling2D(),\n",
        "    layers.Conv2D(64, 3, padding='same', activation='relu'),\n",
        "    layers.MaxPooling2D(),\n",
        "    layers.Flatten(),\n",
        "    layers.Dense(128, activation='relu'),\n",
        "    layers.Dense(num_classes)\n",
        "])"
      ],
      "metadata": {
        "id": "TCZ3u8ocULgx"
      },
      "execution_count": 29,
      "outputs": []
    },
    {
      "cell_type": "code",
      "source": [
        "# Kompilasi model\n",
        "model.compile(optimizer = 'adam',\n",
        "              loss = tf.keras.losses.SparseCategoricalCrossentropy(from_logits = True),\n",
        "              metrics = ['accuracy'])\n",
        "model.summary()"
      ],
      "metadata": {
        "id": "WDrsC87HUNEp",
        "colab": {
          "base_uri": "https://localhost:8080/"
        },
        "outputId": "7719fed7-7de1-4c8a-cb6c-849ab7ebd61e"
      },
      "execution_count": 30,
      "outputs": [
        {
          "output_type": "stream",
          "name": "stdout",
          "text": [
            "Model: \"sequential_3\"\n",
            "_________________________________________________________________\n",
            " Layer (type)                Output Shape              Param #   \n",
            "=================================================================\n",
            " rescaling_7 (Rescaling)     (None, 180, 180, 3)       0         \n",
            "                                                                 \n",
            " conv2d_9 (Conv2D)           (None, 180, 180, 16)      448       \n",
            "                                                                 \n",
            " max_pooling2d_9 (MaxPoolin  (None, 90, 90, 16)        0         \n",
            " g2D)                                                            \n",
            "                                                                 \n",
            " conv2d_10 (Conv2D)          (None, 90, 90, 32)        4640      \n",
            "                                                                 \n",
            " max_pooling2d_10 (MaxPooli  (None, 45, 45, 32)        0         \n",
            " ng2D)                                                           \n",
            "                                                                 \n",
            " conv2d_11 (Conv2D)          (None, 45, 45, 64)        18496     \n",
            "                                                                 \n",
            " max_pooling2d_11 (MaxPooli  (None, 22, 22, 64)        0         \n",
            " ng2D)                                                           \n",
            "                                                                 \n",
            " flatten_3 (Flatten)         (None, 30976)             0         \n",
            "                                                                 \n",
            " dense_6 (Dense)             (None, 128)               3965056   \n",
            "                                                                 \n",
            " dense_7 (Dense)             (None, 2)                 258       \n",
            "                                                                 \n",
            "=================================================================\n",
            "Total params: 3988898 (15.22 MB)\n",
            "Trainable params: 3988898 (15.22 MB)\n",
            "Non-trainable params: 0 (0.00 Byte)\n",
            "_________________________________________________________________\n"
          ]
        }
      ]
    },
    {
      "cell_type": "code",
      "source": [
        "# Melakukan pelatihan model\n",
        "epochs = 10\n",
        "history = model.fit(train_data,\n",
        "                    validation_data = validation_data,\n",
        "                    epochs = epochs)"
      ],
      "metadata": {
        "id": "9JJ2s_wZUPAi",
        "colab": {
          "base_uri": "https://localhost:8080/"
        },
        "outputId": "b3c8a7c8-606a-4530-f27f-9edee42e47b4"
      },
      "execution_count": 31,
      "outputs": [
        {
          "output_type": "stream",
          "name": "stdout",
          "text": [
            "Epoch 1/10\n",
            "2/2 [==============================] - 2s 452ms/step - loss: 1.6254 - accuracy: 0.9000 - val_loss: 2.6853 - val_accuracy: 0.8000\n",
            "Epoch 2/10\n",
            "2/2 [==============================] - 1s 394ms/step - loss: 1.3838 - accuracy: 0.9000 - val_loss: 0.8380 - val_accuracy: 0.8000\n",
            "Epoch 3/10\n",
            "2/2 [==============================] - 1s 394ms/step - loss: 0.3336 - accuracy: 0.9000 - val_loss: 0.5676 - val_accuracy: 0.8000\n",
            "Epoch 4/10\n",
            "2/2 [==============================] - 1s 410ms/step - loss: 0.4637 - accuracy: 0.9000 - val_loss: 0.5381 - val_accuracy: 0.8000\n",
            "Epoch 5/10\n",
            "2/2 [==============================] - 1s 410ms/step - loss: 0.3226 - accuracy: 0.9000 - val_loss: 1.0887 - val_accuracy: 0.8000\n",
            "Epoch 6/10\n",
            "2/2 [==============================] - 1s 234ms/step - loss: 0.5316 - accuracy: 0.9000 - val_loss: 0.9405 - val_accuracy: 0.8000\n",
            "Epoch 7/10\n",
            "2/2 [==============================] - 1s 236ms/step - loss: 0.4082 - accuracy: 0.9000 - val_loss: 0.5361 - val_accuracy: 0.8000\n",
            "Epoch 8/10\n",
            "2/2 [==============================] - 1s 233ms/step - loss: 0.2425 - accuracy: 0.9000 - val_loss: 0.5000 - val_accuracy: 0.8000\n",
            "Epoch 9/10\n",
            "2/2 [==============================] - 1s 249ms/step - loss: 0.2588 - accuracy: 0.9000 - val_loss: 0.5016 - val_accuracy: 0.8000\n",
            "Epoch 10/10\n",
            "2/2 [==============================] - 1s 228ms/step - loss: 0.2393 - accuracy: 0.9000 - val_loss: 0.5461 - val_accuracy: 0.8000\n"
          ]
        }
      ]
    },
    {
      "cell_type": "code",
      "source": [
        "# Prediksi model\n",
        "# Gambar 1\n",
        "path1 = \"drive/My Drive/UAS AI/test/mie.jpeg\"\n",
        "img1 = keras.preprocessing.image.load_img(\n",
        "    path1,\n",
        "    target_size = (img_height, img_width))\n",
        "img_array1 = keras.preprocessing.image.img_to_array(img1)\n",
        "img_array1 = tf.expand_dims(img_array1, 0)\n",
        "predictions1 = model.predict(img_array1)\n",
        "score1 = tf.nn.softmax(predictions1[0])\n",
        "display(Image(filename = path1))\n",
        "\n",
        "# Define the class names\n",
        "class_names = ['non coffe', 'coffe'] # Replace with your actual class names\n",
        "\n",
        "print(\"Gambar ini mendekati {} dengan tingkat kepercayaan sebesar {:.2f} persen\"\n",
        ".format(class_names[np.argmax(score1)], 100*np.max(score1)))\n",
        "\n"
      ],
      "metadata": {
        "id": "T7AUL5r8Uajo",
        "colab": {
          "base_uri": "https://localhost:8080/",
          "height": 277
        },
        "outputId": "ad943ece-07ed-4d27-9e3c-3703bdf5d9b0"
      },
      "execution_count": 32,
      "outputs": [
        {
          "output_type": "stream",
          "name": "stdout",
          "text": [
            "1/1 [==============================] - 0s 96ms/step\n"
          ]
        },
        {
          "output_type": "display_data",
          "data": {
            "image/jpeg": "[encoded data removed]",
            "text/plain": [
              "<IPython.core.display.Image object>"
            ]
          },
          "metadata": {}
        },
        {
          "output_type": "stream",
          "name": "stdout",
          "text": [
            "Gambar ini mendekati non coffe dengan tingkat kepercayaan sebesar 90.00 persen\n"
          ]
        }
      ]
    },
    {
      "cell_type": "markdown",
      "source": [
        "# Gambar 2\n",
        "path2 = \"drive/My Drive/UAS AI/test/test 2.jpg\"\n",
        "img2 = keras.preprocessing.image.load_img(\n",
        "    path2,\n",
        "    target_size = (img_height, img_width))\n",
        "img_array2 = keras.preprocessing.image.img_to_array(img2)\n",
        "img_array2 = tf.expand_dims(img_array2, 0)\n",
        "predictions2 = model.predict(img_array2)\n",
        "score2 = tf.nn.softmax(predictions2[0])\n",
        "display(Image(filename = path2))\n",
        "\n",
        "print(\"Gambar ini mendekati {} dengan tingkat kepercayaan sebesar {:.2f} persen\"\n",
        ".format(class_names[np.argmax(score2)], 100*np.max(score2)))\n",
        "\n",
        "# Gambar 3\n",
        "path3 = \"drive/My Drive/UAS AI/.jpg\"\n",
        "img3 = keras.preprocessing.image.load_img(\n",
        "    path3,\n",
        "    target_size = (img_height, img_width))\n",
        "img_array3 = keras.preprocessing.image.img_to_array(img3)\n",
        "img_array3 = tf.expand_dims(img_array3, 0)\n",
        "predictions3 = model.predict(img_array3)\n",
        "score3 = tf.nn.softmax(predictions3[0])\n",
        "display(Image(filename = path3))\n",
        "\n",
        "print(\"Gambar ini mendekati {} dengan tingkat kepercayaan sebesar {:.2f} persen\"\n",
        ".format(class_names[np.argmax(score3)], 100*np.max(score3)))"
      ],
      "metadata": {
        "id": "QslLHn1wZxxK"
      }
    }
  ]
}